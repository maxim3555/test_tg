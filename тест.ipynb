{
 "cells": [
  {
   "cell_type": "code",
   "outputs": [],
   "source": [
    "\n",
    "import os\n",
    "import random\n",
    "import time\n",
    "from io import BytesIO\n",
    "from fake_useragent import UserAgent\n",
    "\n",
    "import pyautogui\n",
    "import threading\n",
    "import openpyxl\n",
    "import requests\n",
    "from PIL import Image\n",
    "import win32clipboard as clipboard\n",
    "from selenium import webdriver\n",
    "from selenium.webdriver.firefox.options import Options\n",
    "from selenium.webdriver.common.by import By\n",
    "from selenium.webdriver.common.keys import Keys\n",
    "from selenium.webdriver.support.ui import WebDriverWait\n",
    "from selenium.webdriver.support import expected_conditions as EC\n",
    "from selenium.common.exceptions import TimeoutException"
   ],
   "metadata": {
    "collapsed": false,
    "ExecuteTime": {
     "end_time": "2025-01-27T05:59:50.177368200Z",
     "start_time": "2025-01-27T05:59:49.574314400Z"
    }
   },
   "id": "af859bfeb3aa0d6a",
   "execution_count": 1
  },
  {
   "cell_type": "code",
   "execution_count": 2,
   "id": "initial_id",
   "metadata": {
    "collapsed": true,
    "ExecuteTime": {
     "end_time": "2025-01-27T06:00:13.057264Z",
     "start_time": "2025-01-27T05:59:52.042925100Z"
    }
   },
   "outputs": [],
   "source": [
    "schet=4\n",
    "book = openpyxl.open(r\"telegramm.xlsx\")\n",
    "list1 = book.active\n",
    "options = Options()\n",
    "#options.add_argument(\"--headless\")  # Запуск в безголовом режиме\n",
    "#options.set_preference(\"permissions.default.image\", 2)  # Отключение загрузки изображений\n",
    "account_1 = list1['B'][schet].value\n",
    "options.profile = account_1\n",
    "driver = webdriver.Firefox(options=options)\n",
    "account = list(range(1, 100))\n",
    "accounts = [i for i in account if list1['D'][i].value]\n",
    "link_group = [str(list1['D'][schet].value) for schet in accounts]  # ,# reverse=True)\n",
    "\n",
    "#for link in link_group:\n",
    "driver.get(r'https://web.telegram.org/k/#@prodsklad_pobeda')\n"
   ]
  },
  {
   "cell_type": "code",
   "outputs": [
    {
     "name": "stdout",
     "output_type": "stream",
     "text": [
      "ПОДПИСАТЬСЯ\n"
     ]
    }
   ],
   "source": [
    "element = driver.find_element(By.CSS_SELECTOR, '.btn-color-primary')\n",
    "#src_value = element.get_attribute('class')\n",
    "text = element.text\n",
    "print(text)\n",
    "element.click()"
   ],
   "metadata": {
    "collapsed": false,
    "ExecuteTime": {
     "end_time": "2025-01-27T06:01:55.558796600Z",
     "start_time": "2025-01-27T06:01:55.287061700Z"
    }
   },
   "id": "55f1cb6148162820",
   "execution_count": 5
  },
  {
   "cell_type": "code",
   "outputs": [
    {
     "name": "stdout",
     "output_type": "stream",
     "text": [
      "Участвовать (5958)\n"
     ]
    }
   ],
   "source": [
    "#учавствовать в конкурсе\n",
    "\n",
    "join_button = driver.find_element(By.CLASS_NAME, \"reply-markup-button-text\")\n",
    "text = join_button.text\n",
    "print(text)\n",
    "time.sleep(2)\n",
    "spisok_game_element = [text]\n",
    "#driver.execute_script(\"arguments[0].scrollIntoView();\", join_button)\n",
    "driver.execute_script(\"arguments[0].click();\", join_button)"
   ],
   "metadata": {
    "collapsed": false,
    "ExecuteTime": {
     "end_time": "2025-01-27T07:41:49.671134300Z",
     "start_time": "2025-01-27T07:41:47.635473600Z"
    }
   },
   "id": "c2239e92779cb688",
   "execution_count": 56
  },
  {
   "cell_type": "code",
   "outputs": [
    {
     "name": "stdout",
     "output_type": "stream",
     "text": [
      "Участвовать (5959)\n"
     ]
    }
   ],
   "source": [
    "# Нажимаем кнопку \"запустить\"\n",
    "join_button = driver.find_element(By.CLASS_NAME, \"reply-markup-button-text\")\n",
    "text = join_button.text\n",
    "print(text)"
   ],
   "metadata": {
    "collapsed": false,
    "ExecuteTime": {
     "end_time": "2025-01-27T07:42:32.119252400Z",
     "start_time": "2025-01-27T07:42:32.104400Z"
    }
   },
   "id": "c68b8ebe1d08554d",
   "execution_count": 57
  },
  {
   "cell_type": "code",
   "outputs": [],
   "source": [
    "button.popup-button:nth-child(1) > span:nth-child(2)"
   ],
   "metadata": {
    "collapsed": false
   },
   "id": "a20b439835c5857e"
  },
  {
   "cell_type": "code",
   "outputs": [
    {
     "name": "stdout",
     "output_type": "stream",
     "text": [
      "ЗАПУСТИТЬ\n"
     ]
    }
   ],
   "source": [
    "# Нажимаем кнопку \"запустить\"\n",
    "element = driver.find_element(By.CSS_SELECTOR, 'button.popup-button:nth-child(1) > span:nth-child(2)')\n",
    "#src_value = element.get_attribute('class')\n",
    "text = element.text\n",
    "print(text)\n",
    "driver.execute_script(\"arguments[0].click();\", element)"
   ],
   "metadata": {
    "collapsed": false,
    "ExecuteTime": {
     "end_time": "2025-01-26T16:14:02.101262600Z",
     "start_time": "2025-01-26T16:14:02.081788300Z"
    }
   },
   "id": "7de53af27c2a9b65",
   "execution_count": 43
  },
  {
   "cell_type": "code",
   "outputs": [
    {
     "name": "stdout",
     "output_type": "stream",
     "text": []
    }
   ],
   "source": [
    "# Нажимаем кнопку \"закрепленное сообщение\"\n",
    "element = driver.find_element(By.CSS_SELECTOR, '.chat-pinlist > div:nth-child(1)')\n",
    "#src_value = element.get_attribute('class')\n",
    "text = element.text\n",
    "print(text)\n",
    "driver.execute_script(\"arguments[0].click();\", element)"
   ],
   "metadata": {
    "collapsed": false,
    "ExecuteTime": {
     "end_time": "2025-01-27T07:40:28.479929600Z",
     "start_time": "2025-01-27T07:40:28.451124800Z"
    }
   },
   "id": "21266f8a378df5c6",
   "execution_count": 51
  },
  {
   "cell_type": "code",
   "outputs": [
    {
     "ename": "NoSuchElementException",
     "evalue": "Message: Unable to locate element: .cb-lb > input:nth-child(1); For documentation on this error, please visit: https://www.selenium.dev/documentation/webdriver/troubleshooting/errors#no-such-element-exception\nStacktrace:\nRemoteError@chrome://remote/content/shared/RemoteError.sys.mjs:8:8\nWebDriverError@chrome://remote/content/shared/webdriver/Errors.sys.mjs:193:5\nNoSuchElementError@chrome://remote/content/shared/webdriver/Errors.sys.mjs:511:5\ndom.find/</<@chrome://remote/content/shared/DOM.sys.mjs:136:16\n",
     "output_type": "error",
     "traceback": [
      "\u001B[1;31m---------------------------------------------------------------------------\u001B[0m",
      "\u001B[1;31mNoSuchElementException\u001B[0m                    Traceback (most recent call last)",
      "Cell \u001B[1;32mIn[41], line 1\u001B[0m\n\u001B[1;32m----> 1\u001B[0m element \u001B[38;5;241m=\u001B[39m \u001B[43mdriver\u001B[49m\u001B[38;5;241;43m.\u001B[39;49m\u001B[43mfind_element\u001B[49m\u001B[43m(\u001B[49m\u001B[43mBy\u001B[49m\u001B[38;5;241;43m.\u001B[39;49m\u001B[43mCSS_SELECTOR\u001B[49m\u001B[43m,\u001B[49m\u001B[43m \u001B[49m\u001B[38;5;124;43m'\u001B[39;49m\u001B[38;5;124;43m.cb-lb > input:nth-child(1)\u001B[39;49m\u001B[38;5;124;43m'\u001B[39;49m\u001B[43m)\u001B[49m\n\u001B[0;32m      2\u001B[0m \u001B[38;5;66;03m# src_value = element.get_attribute('class')\u001B[39;00m\n\u001B[0;32m      3\u001B[0m text \u001B[38;5;241m=\u001B[39m element\u001B[38;5;241m.\u001B[39mtext\n",
      "File \u001B[1;32m~\\AppData\\Local\\Programs\\Python\\Python312\\Lib\\site-packages\\selenium\\webdriver\\remote\\webdriver.py:766\u001B[0m, in \u001B[0;36mWebDriver.find_element\u001B[1;34m(self, by, value)\u001B[0m\n\u001B[0;32m    763\u001B[0m         \u001B[38;5;28;01mraise\u001B[39;00m NoSuchElementException(\u001B[38;5;124mf\u001B[39m\u001B[38;5;124m\"\u001B[39m\u001B[38;5;124mCannot locate relative element with: \u001B[39m\u001B[38;5;132;01m{\u001B[39;00mby\u001B[38;5;241m.\u001B[39mroot\u001B[38;5;132;01m}\u001B[39;00m\u001B[38;5;124m\"\u001B[39m)\n\u001B[0;32m    764\u001B[0m     \u001B[38;5;28;01mreturn\u001B[39;00m elements[\u001B[38;5;241m0\u001B[39m]\n\u001B[1;32m--> 766\u001B[0m \u001B[38;5;28;01mreturn\u001B[39;00m \u001B[38;5;28;43mself\u001B[39;49m\u001B[38;5;241;43m.\u001B[39;49m\u001B[43mexecute\u001B[49m\u001B[43m(\u001B[49m\u001B[43mCommand\u001B[49m\u001B[38;5;241;43m.\u001B[39;49m\u001B[43mFIND_ELEMENT\u001B[49m\u001B[43m,\u001B[49m\u001B[43m \u001B[49m\u001B[43m{\u001B[49m\u001B[38;5;124;43m\"\u001B[39;49m\u001B[38;5;124;43musing\u001B[39;49m\u001B[38;5;124;43m\"\u001B[39;49m\u001B[43m:\u001B[49m\u001B[43m \u001B[49m\u001B[43mby\u001B[49m\u001B[43m,\u001B[49m\u001B[43m \u001B[49m\u001B[38;5;124;43m\"\u001B[39;49m\u001B[38;5;124;43mvalue\u001B[39;49m\u001B[38;5;124;43m\"\u001B[39;49m\u001B[43m:\u001B[49m\u001B[43m \u001B[49m\u001B[43mvalue\u001B[49m\u001B[43m}\u001B[49m\u001B[43m)\u001B[49m[\u001B[38;5;124m\"\u001B[39m\u001B[38;5;124mvalue\u001B[39m\u001B[38;5;124m\"\u001B[39m]\n",
      "File \u001B[1;32m~\\AppData\\Local\\Programs\\Python\\Python312\\Lib\\site-packages\\selenium\\webdriver\\remote\\webdriver.py:380\u001B[0m, in \u001B[0;36mWebDriver.execute\u001B[1;34m(self, driver_command, params)\u001B[0m\n\u001B[0;32m    378\u001B[0m response \u001B[38;5;241m=\u001B[39m \u001B[38;5;28mself\u001B[39m\u001B[38;5;241m.\u001B[39mcommand_executor\u001B[38;5;241m.\u001B[39mexecute(driver_command, params)\n\u001B[0;32m    379\u001B[0m \u001B[38;5;28;01mif\u001B[39;00m response:\n\u001B[1;32m--> 380\u001B[0m     \u001B[38;5;28;43mself\u001B[39;49m\u001B[38;5;241;43m.\u001B[39;49m\u001B[43merror_handler\u001B[49m\u001B[38;5;241;43m.\u001B[39;49m\u001B[43mcheck_response\u001B[49m\u001B[43m(\u001B[49m\u001B[43mresponse\u001B[49m\u001B[43m)\u001B[49m\n\u001B[0;32m    381\u001B[0m     response[\u001B[38;5;124m\"\u001B[39m\u001B[38;5;124mvalue\u001B[39m\u001B[38;5;124m\"\u001B[39m] \u001B[38;5;241m=\u001B[39m \u001B[38;5;28mself\u001B[39m\u001B[38;5;241m.\u001B[39m_unwrap_value(response\u001B[38;5;241m.\u001B[39mget(\u001B[38;5;124m\"\u001B[39m\u001B[38;5;124mvalue\u001B[39m\u001B[38;5;124m\"\u001B[39m, \u001B[38;5;28;01mNone\u001B[39;00m))\n\u001B[0;32m    382\u001B[0m     \u001B[38;5;28;01mreturn\u001B[39;00m response\n",
      "File \u001B[1;32m~\\AppData\\Local\\Programs\\Python\\Python312\\Lib\\site-packages\\selenium\\webdriver\\remote\\errorhandler.py:229\u001B[0m, in \u001B[0;36mErrorHandler.check_response\u001B[1;34m(self, response)\u001B[0m\n\u001B[0;32m    227\u001B[0m         alert_text \u001B[38;5;241m=\u001B[39m value[\u001B[38;5;124m\"\u001B[39m\u001B[38;5;124malert\u001B[39m\u001B[38;5;124m\"\u001B[39m]\u001B[38;5;241m.\u001B[39mget(\u001B[38;5;124m\"\u001B[39m\u001B[38;5;124mtext\u001B[39m\u001B[38;5;124m\"\u001B[39m)\n\u001B[0;32m    228\u001B[0m     \u001B[38;5;28;01mraise\u001B[39;00m exception_class(message, screen, stacktrace, alert_text)  \u001B[38;5;66;03m# type: ignore[call-arg]  # mypy is not smart enough here\u001B[39;00m\n\u001B[1;32m--> 229\u001B[0m \u001B[38;5;28;01mraise\u001B[39;00m exception_class(message, screen, stacktrace)\n",
      "\u001B[1;31mNoSuchElementException\u001B[0m: Message: Unable to locate element: .cb-lb > input:nth-child(1); For documentation on this error, please visit: https://www.selenium.dev/documentation/webdriver/troubleshooting/errors#no-such-element-exception\nStacktrace:\nRemoteError@chrome://remote/content/shared/RemoteError.sys.mjs:8:8\nWebDriverError@chrome://remote/content/shared/webdriver/Errors.sys.mjs:193:5\nNoSuchElementError@chrome://remote/content/shared/webdriver/Errors.sys.mjs:511:5\ndom.find/</<@chrome://remote/content/shared/DOM.sys.mjs:136:16\n"
     ]
    }
   ],
   "source": [
    "element = driver.find_element(By.CSS_SELECTOR, '.cb-lb > input:nth-child(1)')\n",
    "# src_value = element.get_attribute('class')\n",
    "text = element.text\n",
    "print(text)\n",
    "driver.execute_script(\"arguments[0].click();\", element)"
   ],
   "metadata": {
    "collapsed": false,
    "ExecuteTime": {
     "end_time": "2025-01-27T06:37:18.357129600Z",
     "start_time": "2025-01-27T06:37:18.328545700Z"
    }
   },
   "id": "4110d35c84f063ad",
   "execution_count": 41
  },
  {
   "cell_type": "code",
   "outputs": [
    {
     "name": "stdout",
     "output_type": "stream",
     "text": [
      "['Launch', 'Запустить']\n",
      "['Launch', 'Запустить']\n",
      "Элемент найден в Запустить\n"
     ]
    }
   ],
   "source": [
    "def poisk_elementov_click(driver, element, t):\n",
    "    TIME_TO_LOOP = t\n",
    "    start = time.time()\n",
    "    schetchik = 0\n",
    "    spisok_element = element\n",
    "    print(spisok_element)\n",
    "    while time.time() < start + TIME_TO_LOOP:\n",
    "        try:\n",
    "            for i in spisok_element:\n",
    "                #print(i)\n",
    "                elements = driver.find_elements(By.XPATH, f\"//*[contains(text(), '{i}')]\")\n",
    "                # last_element = element[-1]\n",
    "                if elements:\n",
    "                    for g in elements:\n",
    "                        print(f\"Элемент найден в {i}\")\n",
    "                        # WebDriverWait(driver, 0.1).until(EC.element_to_be_clickable(last_element))\n",
    "                        driver.execute_script(\"arguments[0].scrollIntoView();\", g)\n",
    "                        driver.execute_script(\"arguments[0].click();\", g)\n",
    "                        # r.click()\n",
    "                        # driver.execute_script(\"arguments[0].scrollIntoView();\", elements)\n",
    "                        # driver.execute_script(\"arguments[0].click();\", elements)\n",
    "                        time.sleep(2)\n",
    "                        schetchik += 1\n",
    "                        spisok_element.remove(i)\n",
    "\n",
    "                        # continue\n",
    "                if len(element) == 0:\n",
    "                    break\n",
    "        except Exception as e:\n",
    "            print(f\"Жду: {e}\")\n",
    "# Нажимаем кнопку \"запустить\"\n",
    "spisok_game_element = ['Launch', 'Запустить']#\n",
    "print(spisok_game_element)\n",
    "poisk_elementov_click(driver, spisok_game_element, 15)"
   ],
   "metadata": {
    "collapsed": false,
    "ExecuteTime": {
     "end_time": "2025-01-27T07:42:58.283653600Z",
     "start_time": "2025-01-27T07:42:43.151639400Z"
    }
   },
   "id": "551b297e881f2459",
   "execution_count": 58
  },
  {
   "cell_type": "code",
   "outputs": [],
   "source": [],
   "metadata": {
    "collapsed": false,
    "ExecuteTime": {
     "end_time": "2025-01-27T07:40:59.029493900Z",
     "start_time": "2025-01-27T07:40:59.026505200Z"
    }
   },
   "id": "f06569b5e20037ef",
   "execution_count": 52
  },
  {
   "cell_type": "code",
   "outputs": [],
   "source": [],
   "metadata": {
    "collapsed": false
   },
   "id": "e00b0a3a8dcc7ca5"
  }
 ],
 "metadata": {
  "kernelspec": {
   "display_name": "Python 3",
   "language": "python",
   "name": "python3"
  },
  "language_info": {
   "codemirror_mode": {
    "name": "ipython",
    "version": 2
   },
   "file_extension": ".py",
   "mimetype": "text/x-python",
   "name": "python",
   "nbconvert_exporter": "python",
   "pygments_lexer": "ipython2",
   "version": "2.7.6"
  }
 },
 "nbformat": 4,
 "nbformat_minor": 5
}
